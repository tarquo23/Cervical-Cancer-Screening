{
  "nbformat": 4,
  "nbformat_minor": 0,
  "metadata": {
    "colab": {
      "name": "dataset_utilities.ipynb",
      "provenance": [],
      "collapsed_sections": []
    },
    "kernelspec": {
      "name": "python3",
      "display_name": "Python 3"
    }
  },
  "cells": [
    {
      "cell_type": "code",
      "metadata": {
        "id": "SSyJ-1ewSPit",
        "colab_type": "code",
        "colab": {}
      },
      "source": [
        "from google.colab import files  \n",
        "from google.colab import drive\n",
        "import zipfile"
      ],
      "execution_count": 0,
      "outputs": []
    },
    {
      "cell_type": "markdown",
      "metadata": {
        "id": "eHYAD7zpSX5v",
        "colab_type": "text"
      },
      "source": [
        "**Download the zip file dataset in google drive folder**"
      ]
    },
    {
      "cell_type": "code",
      "metadata": {
        "id": "ulqYBtVPTrHF",
        "colab_type": "code",
        "colab": {}
      },
      "source": [
        "def download_zip_dataset_and_unmount_gdrive():\n",
        "  # Install Kaggle library\n",
        "  !pip install kaggle\n",
        "  !pip install --upgrade --force-reinstall --no-deps kaggle\n",
        "\n",
        "  !rm kaggle.json\n",
        "  # Upload kaggle API key file\n",
        "  uploaded = files.upload()     # upload kaggle.json\n",
        "\n",
        "  !rm -rf ../root/.kaggle\n",
        "  !mkdir ../root/.kaggle\n",
        "  !cp kaggle.json ../root/.kaggle\n",
        "  !chmod 600 /root/.kaggle/kaggle.json\n",
        "\n",
        "  # Download zip file containing the dataset \n",
        "  !kaggle competitions download -c intel-mobileodt-cervical-cancer-screening -p /content/drive/My\\ Drive/kaggle_dataset\n",
        "\n",
        "  #drive.flush_and_unmount()"
      ],
      "execution_count": 0,
      "outputs": []
    },
    {
      "cell_type": "markdown",
      "metadata": {
        "id": "7ansMKNtWOwx",
        "colab_type": "text"
      },
      "source": [
        "**Extract the zip file in local directory**"
      ]
    },
    {
      "cell_type": "code",
      "metadata": {
        "id": "FA7krpvTXA6-",
        "colab_type": "code",
        "colab": {}
      },
      "source": [
        "def extract_zip_dataset():\n",
        "  archive = zipfile.ZipFile('/content/drive/My Drive/kaggle_dataset/intel-mobileodt-cervical-cancer-screening.zip')\n",
        "\n",
        "  # Extract zip, for now we will work only on train and \n",
        "  # test images folders\n",
        "  for file in archive.namelist():\n",
        "      if file.startswith('train/') or file.startswith('test/') :\n",
        "          # extract the image with name == file(for example file == train/train/Type_3/465.jpg) \n",
        "          # in the /content/ folderm\n",
        "          archive.extract(file, '/content/')    "
      ],
      "execution_count": 0,
      "outputs": []
    },
    {
      "cell_type": "markdown",
      "metadata": {
        "id": "L5HKMW-dXURb",
        "colab_type": "text"
      },
      "source": [
        "**Support function to return an image completely blurred except a specified bounding box**"
      ]
    },
    {
      "cell_type": "code",
      "metadata": {
        "id": "qWzBKTWdX2in",
        "colab_type": "code",
        "colab": {}
      },
      "source": [
        "def blur_image(img_path, startx, starty, width, height):\n",
        "  startx = int(startx)\n",
        "  starty = int(starty)\n",
        "  width = int(width)\n",
        "  height = int(height)\n",
        "\n",
        "  original = cv2.imread(img_path)\n",
        "\n",
        "  blurred = cv2.GaussianBlur(original, (171,171), 0)\n",
        "  blurred[starty:starty+height,startx:startx+width] = original[starty:starty+height,startx:startx+width] \n",
        "  \n",
        "  blurred = cv2.resize(blurred, (224,224))\n",
        "  \n",
        "  return blurred"
      ],
      "execution_count": 0,
      "outputs": []
    },
    {
      "cell_type": "markdown",
      "metadata": {
        "id": "haMZJ0jaYDxm",
        "colab_type": "text"
      },
      "source": [
        "**Get original images, read tsv file to get the bouding box coordinates, and convert each image to blurred image**"
      ]
    },
    {
      "cell_type": "code",
      "metadata": {
        "id": "mYDXccOvYV4V",
        "colab_type": "code",
        "colab": {}
      },
      "source": [
        "def convert_images_to_blurred():\n",
        "  \n",
        "  with open('/content/drive/My Drive/Type_1_bbox.tsv') as tsvfile:\n",
        "    reader = csv.reader(tsvfile, delimiter=' ')\n",
        "    for row in reader:\n",
        "      # iterate over rectangles \n",
        "      row[0] = row[0][:6] + \"/\" + row[0][7:]\n",
        "      fullpath = \"/content/train/train/\" + row[0]\n",
        "\n",
        "      blurred_image = blur_image(fullpath, row[2], row[3], row[4], row[5])\n",
        "      cv2.imwrite(\"/content/drive/My Drive/blurred_dataset/\"+row[0], blurred_image)\n",
        "\n",
        "      # remove original image \n",
        "      os.remove(fullpath)\n",
        "\n",
        "  with open('/content/drive/My Drive/Type_2_bboxes.tsv') as tsvfile:\n",
        "    reader = csv.reader(tsvfile, delimiter=' ')\n",
        "    for row in reader:\n",
        "      # iterate over rectangles \n",
        "      row[0] = row[0][:6] + \"/\" + row[0][7:]\n",
        "      fullpath = \"/content/train/train/\" + row[0]\n",
        "\n",
        "      blurred_image = blur_image(fullpath, row[2], row[3], row[4], row[5])\n",
        "      cv2.imwrite(\"/content/drive/My Drive/blurred_dataset/\"+row[0], blurred_image)\n",
        "\n",
        "      # remove original image \n",
        "      os.remove(fullpath)\n",
        "\n",
        "  with open('/content/drive/My Drive/Type_3_bbox.tsv') as tsvfile:\n",
        "    reader = csv.reader(tsvfile, delimiter=' ')\n",
        "    for row in reader:\n",
        "      # iterate over rectangles \n",
        "      row[0] = row[0][:6] + \"/\" + row[0][7:]\n",
        "      fullpath = \"/content/train/train/\" + row[0] \n",
        "\n",
        "      blurred_image = blur_image(fullpath, row[2], row[3], row[4], row[5])\n",
        "      cv2.imwrite(\"/content/drive/My Drive/blurred_dataset/\"+row[0], blurred_image)\n",
        "\n",
        "      # remove original image \n",
        "      os.remove(fullpath)\n",
        "\n",
        "  drive.flush_and_unmount()"
      ],
      "execution_count": 0,
      "outputs": []
    },
    {
      "cell_type": "markdown",
      "metadata": {
        "id": "BEu-OT-abL_5",
        "colab_type": "text"
      },
      "source": [
        "**Support function to return an image cropped on a specified bounding box**"
      ]
    },
    {
      "cell_type": "code",
      "metadata": {
        "id": "gLSlC3-nbN7I",
        "colab_type": "code",
        "colab": {}
      },
      "source": [
        "# makes padding up to desired_size[<==>(width,height)] with BLACK-pixel\n",
        "def rsz_with_black_border(im, desired_size):\n",
        "  \n",
        "  old_size = im.shape[:2] # old_size is in (height, width) format\n",
        "\n",
        "  ratio = float(desired_size)/max(old_size)\n",
        "  new_size = tuple([int(x*ratio) for x in old_size])\n",
        "\n",
        "  # new_size should be in (width, height) format\n",
        "\n",
        "  im = cv2.resize(im, (new_size[1], new_size[0]))\n",
        "\n",
        "  delta_w = desired_size - new_size[1]\n",
        "  delta_h = desired_size - new_size[0]\n",
        "  top, bottom = delta_h//2, delta_h-(delta_h//2)\n",
        "  left, right = delta_w//2, delta_w-(delta_w//2)\n",
        "\n",
        "  color = [0, 0, 0]\n",
        "  new_im = cv2.copyMakeBorder(im, top, bottom, left, right, cv2.BORDER_CONSTANT,\n",
        "      value=color)\n",
        "\n",
        "  return new_im\n",
        "\n",
        "\n",
        "def crop_image_manual(img_path, startx, starty, width, height):\n",
        "  startx = int(startx)\n",
        "  starty = int(starty)\n",
        "  width = int(width)\n",
        "  height = int(height)\n",
        "\n",
        "  original = cv2.imread(img_path)\n",
        "\n",
        "  original = original[starty:starty+height,startx:startx+width]   # CROP\n",
        "\n",
        "  original = rsz_with_black_border(original, 224)\n",
        "\n",
        "  return original\n",
        "\n",
        "\n",
        "def crop_image(img_path, startx, starty, width, height, rsz_x, rsz_y):\n",
        "  startx = int(startx)\n",
        "  starty = int(starty)\n",
        "  width = int(width)\n",
        "  height = int(height)\n",
        "\n",
        "  original = cv2.imread(img_path)\n",
        "  original = cv2.resize(original, (int(rsz_x),int(rsz_y)))\n",
        "\n",
        "  original = original[starty:starty+height,startx:startx+width]   # CROP\n",
        "\n",
        "  original = rsz_with_black_border(original, 224)\n",
        "\n",
        "  return original\n"
      ],
      "execution_count": 0,
      "outputs": []
    },
    {
      "cell_type": "markdown",
      "metadata": {
        "id": "7U5_W9brqzBR",
        "colab_type": "text"
      },
      "source": [
        "**Get original images, read tsv file to get the bouding box coordinates, and convert each image to a cropped image**"
      ]
    },
    {
      "cell_type": "code",
      "metadata": {
        "id": "LaOM0wihq50u",
        "colab_type": "code",
        "colab": {}
      },
      "source": [
        "def convert_images_to_cropped_images():\n",
        "  \n",
        "  with open('/content/drive/My Drive/Type_1_bbox.tsv') as tsvfile:\n",
        "    reader = csv.reader(tsvfile, delimiter=' ')\n",
        "    for row in reader:\n",
        "      # iterate over rectangles \n",
        "      row[0] = row[0][:6] + \"/\" + row[0][7:]\n",
        "      fullpath = \"/content/train/train/\" + row[0]\n",
        "\n",
        "      blurred_image = blur_image(fullpath, row[2], row[3], row[4], row[5])\n",
        "      cv2.imwrite(\"/content/drive/My Drive/blurred_dataset/\"+row[0], blurred_image)\n",
        "\n",
        "      # remove original image \n",
        "      os.remove(fullpath)\n",
        "\n",
        "  with open('/content/drive/My Drive/Type_2_bboxes.tsv') as tsvfile:\n",
        "    reader = csv.reader(tsvfile, delimiter=' ')\n",
        "    for row in reader:\n",
        "      # iterate over rectangles \n",
        "      row[0] = row[0][:6] + \"/\" + row[0][7:]\n",
        "      fullpath = \"/content/train/train/\" + row[0]\n",
        "\n",
        "      blurred_image = blur_image(fullpath, row[2], row[3], row[4], row[5])\n",
        "      cv2.imwrite(\"/content/drive/My Drive/blurred_dataset/\"+row[0], blurred_image)\n",
        "\n",
        "      # remove original image \n",
        "      os.remove(fullpath)\n",
        "\n",
        "  with open('/content/drive/My Drive/Type_3_bbox.tsv') as tsvfile:\n",
        "    reader = csv.reader(tsvfile, delimiter=' ')\n",
        "    for row in reader:\n",
        "      # iterate over rectangles \n",
        "      row[0] = row[0][:6] + \"/\" + row[0][7:]\n",
        "      fullpath = \"/content/train/train/\" + row[0] \n",
        "\n",
        "      blurred_image = blur_image(fullpath, row[2], row[3], row[4], row[5])\n",
        "      cv2.imwrite(\"/content/drive/My Drive/blurred_dataset/\"+row[0], blurred_image)\n",
        "\n",
        "      # remove original image \n",
        "      os.remove(fullpath)\n",
        "\n",
        "  drive.flush_and_unmount()"
      ],
      "execution_count": 0,
      "outputs": []
    }
  ]
}