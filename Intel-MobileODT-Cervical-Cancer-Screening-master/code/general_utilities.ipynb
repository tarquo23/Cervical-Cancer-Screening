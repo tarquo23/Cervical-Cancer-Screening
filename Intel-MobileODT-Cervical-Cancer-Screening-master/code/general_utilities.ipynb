{
  "nbformat": 4,
  "nbformat_minor": 0,
  "metadata": {
    "colab": {
      "name": "general_utilities.ipynb",
      "provenance": [],
      "collapsed_sections": []
    },
    "kernelspec": {
      "name": "python3",
      "display_name": "Python 3"
    }
  },
  "cells": [
    {
      "cell_type": "markdown",
      "metadata": {
        "id": "q_PgsVIYaqL3",
        "colab_type": "text"
      },
      "source": [
        "**Function to make the list of labels given the labeled data**"
      ]
    },
    {
      "cell_type": "code",
      "metadata": {
        "id": "BueZ1DlFakY-",
        "colab_type": "code",
        "colab": {}
      },
      "source": [
        "def get_labels_list(X):\n",
        "  #sample is a file name, e.g. /content/train/train/Type_2/1348.jpg\n",
        "  y = []\n",
        "  for sample in X:\n",
        "    cancer_type = sample[26:27]\n",
        "    if cancer_type == '1':\n",
        "      y_sample = [1, 0, 0]\n",
        "    elif cancer_type == '2':\n",
        "      y_sample = [0, 1, 0]\n",
        "    else:\n",
        "      y_sample = [0, 0, 1]\n",
        "\n",
        "    y.append(y_sample)\n",
        "\n",
        "  return y"
      ],
      "execution_count": 0,
      "outputs": []
    },
    {
      "cell_type": "markdown",
      "metadata": {
        "id": "f5um5rtDaupG",
        "colab_type": "text"
      },
      "source": [
        "**Batch generator for model fit_generator**"
      ]
    },
    {
      "cell_type": "code",
      "metadata": {
        "id": "JK86Nkc0avSV",
        "colab_type": "code",
        "colab": {}
      },
      "source": [
        "def batch_generator_train(files, batch_size):\n",
        "    #number_of_batches = np.ceil(len(files)/batch_size)\n",
        "\n",
        "    # if len(files) is not multiple of batch_size the last batch\n",
        "    # will be droppend and we reshuffle and restart from \n",
        "    # counter == 0 (see the if condition at bottom)\n",
        "    number_of_batches = np.floor(len(files)/batch_size)\n",
        "\n",
        "    counter = 0\n",
        "    random.shuffle(files)\n",
        "    # while True because on each call of this function it must \n",
        "    # return a batch. When the batches in files are finished it \n",
        "    # restarts, that means this function must never end\n",
        "    while True:\n",
        "        batch_files = files[batch_size*counter:batch_size*(counter+1)]\n",
        "        image_list = []\n",
        "        mask_list = []\n",
        "        for f in batch_files:\n",
        "            image = cv2.imread(f)     # given the name of the file we take the image \n",
        "            image = cv2.resize(image, conf['image_shape'])\n",
        "\n",
        "            # here we take the label\n",
        "            # example: f == /content/train/train/Type_2/1348.jpg\n",
        "            #          the label is the character at index 26\n",
        "            #cancer_type = f[26:27]      # relies on path lengths that is hard coded below\n",
        "            if \"Type_1\" in f:\n",
        "                mask = [1, 0, 0]\n",
        "            elif \"Type_2\" in f:\n",
        "                mask = [0, 1, 0]\n",
        "            elif \"Type_3\" in f:\n",
        "                mask = [0, 0, 1]\n",
        "            else:\n",
        "                raise Exception('Error in function batch_generator_train => label not found in filename')\n",
        "\n",
        "            image_list.append(image)\n",
        "            mask_list.append(mask)\n",
        "            \n",
        "        counter += 1\n",
        "        image_list = np.array(image_list)\n",
        "        mask_list = np.array(mask_list)\n",
        " \n",
        "        yield image_list, mask_list\n",
        "\n",
        "        if counter == number_of_batches:\n",
        "            # reshuffle and restart\n",
        "            random.shuffle(files)\n",
        "            counter = 0"
      ],
      "execution_count": 0,
      "outputs": []
    },
    {
      "cell_type": "markdown",
      "metadata": {
        "id": "_SxWh8azavwG",
        "colab_type": "text"
      },
      "source": [
        "**Function to import images in RAM**"
      ]
    },
    {
      "cell_type": "code",
      "metadata": {
        "id": "jI7G4BR9awSd",
        "colab_type": "code",
        "colab": {}
      },
      "source": [
        "def load_dataset_in_ram(files):\n",
        "  imgs = []\n",
        "  labels = []\n",
        "\n",
        "  for file in files:\n",
        "    img = load_img(file, target_size=conf['image_shape'])\n",
        "    data = img_to_array(img)\n",
        "    #samples = expand_dims(data, 0)\n",
        "    samples = data\n",
        "    imgs.append(samples)\n",
        "\n",
        "    #cancer_type = file[label_at_char_position : label_at_char_position+1]      # relies on path lengths that is hard coded below\n",
        "    if \"Type_1\" in file:\n",
        "      label = [1, 0, 0]\n",
        "    elif \"Type_2\" in file:\n",
        "      label = [0, 1, 0]\n",
        "    elif \"Type_3\" in file:\n",
        "      label = [0, 0, 1]\n",
        "    else:\n",
        "      raise Exception('Error in function load_dataset_in_ram => label not found in filename')\n",
        "    labels.append(label)\n",
        "\n",
        "  imgs = np.array(imgs)\n",
        "  labels = np.array(labels)\n",
        "  return imgs, labels   "
      ],
      "execution_count": 0,
      "outputs": []
    },
    {
      "cell_type": "markdown",
      "metadata": {
        "id": "h2DAnbjDeY1h",
        "colab_type": "text"
      },
      "source": [
        "**Function to show probability predictions**"
      ]
    },
    {
      "cell_type": "code",
      "metadata": {
        "id": "n_M1WYx1eZcI",
        "colab_type": "code",
        "colab": {}
      },
      "source": [
        "def show_probability_predictions(model, X, y):\n",
        "  print('[P(class_0),P(class_1),P(class_2),pred_label,truth_label,pred==truth]')\n",
        "  result = np.zeros((len(X),6))\n",
        "\n",
        "  # each row is a sample, for each we have three colums that \n",
        "  # are the three probability predicted \n",
        "  y_probability_predictions = np.round(model.predict(X), decimals=2)\n",
        "  result[:,:-3] = y_probability_predictions\n",
        "\n",
        "  y_predicted = np.argmax(y_probability_predictions, axis=1)\n",
        "  result[:,-3] = y_predicted\n",
        "\n",
        "  result[:,-2] = np.argmax(y, axis=1)\n",
        "\n",
        "  row = 0\n",
        "  for predicted in result[:,-3]:\n",
        "    if predicted == result[row,-2]:\n",
        "      result[row,-1] = 1\n",
        "    else:\n",
        "      result[row,-1] = 0\n",
        "    row += 1\n",
        "\n",
        "  print(result)"
      ],
      "execution_count": 0,
      "outputs": []
    },
    {
      "cell_type": "markdown",
      "metadata": {
        "id": "hlq5hBhVehui",
        "colab_type": "text"
      },
      "source": [
        "**Function to show confusion matrix and other stats**"
      ]
    },
    {
      "cell_type": "code",
      "metadata": {
        "id": "8qSkT5Kpel3a",
        "colab_type": "code",
        "colab": {}
      },
      "source": [
        "from sklearn.metrics import confusion_matrix, classification_report\n",
        "\n",
        "\n",
        "def show_report(model, X, y):\n",
        "    \"\"\"\n",
        "    Displays a confusion matrix and a classification report.\n",
        "    \"\"\"\n",
        "    # axis=1: it means that for each row it returns the argmax of that row\n",
        "    #  e.g. row1: [0.15, 0.70, 0.15]  => argmax==1\n",
        "    #       row2: [0.90, 0.05, 0.05] => argmax==0\n",
        "    #   hence the np.argmax return the array [1, 0]\n",
        "    y_predicted = np.argmax(model.predict(X), axis=1)   \n",
        "    y_true = np.argmax(y, axis=1)\n",
        "\n",
        "    print(\"Confusion matrix (rows: true, columns: predicted)\")\n",
        "    print(confusion_matrix(y_true, y_predicted))\n",
        "    print(\"\")\n",
        "\n",
        "    print(\"Classification report\")\n",
        "    print(classification_report(y_true, y_predicted))"
      ],
      "execution_count": 0,
      "outputs": []
    },
    {
      "cell_type": "markdown",
      "metadata": {
        "id": "s5XqEx9ie6qn",
        "colab_type": "text"
      },
      "source": [
        "**Function to show graphs**"
      ]
    },
    {
      "cell_type": "code",
      "metadata": {
        "id": "32V_NG_me-xA",
        "colab_type": "code",
        "colab": {}
      },
      "source": [
        "# it takes an history object as argument.\n",
        "# this function shows accuracy graph and loss graph for \n",
        "# train and validation dataset\n",
        "def show_graphs(history, plot_validation=False):\n",
        "\n",
        "  # Plot training & validation accuracy values\n",
        "  plt.plot(history.history['acc'])\n",
        "  if plot_validation == True:\n",
        "    plt.plot(history.history['val_acc'])\n",
        "  plt.title('Model accuracy')\n",
        "  plt.ylabel('Accuracy')\n",
        "  plt.xlabel('Epoch')\n",
        "  if plot_validation == True:\n",
        "    plt.legend(['Train', 'Validation'], loc='upper left')\n",
        "  else: \n",
        "    plt.legend(['Train'], loc='upper left')\n",
        "  plt.show()\n",
        "\n",
        "  # Plot training & validation loss values\n",
        "  plt.plot(history.history['loss'])\n",
        "  if plot_validation == True:\n",
        "    plt.plot(history.history['val_loss'])\n",
        "  plt.title('Model loss')\n",
        "  plt.ylabel('Loss')\n",
        "  plt.xlabel('Epoch')\n",
        "  if plot_validation == True:\n",
        "    plt.legend(['Train', 'Validation'], loc='upper left')\n",
        "  else:\n",
        "    plt.legend(['Train'], loc='upper left')\n",
        "  plt.show()"
      ],
      "execution_count": 0,
      "outputs": []
    }
  ]
}